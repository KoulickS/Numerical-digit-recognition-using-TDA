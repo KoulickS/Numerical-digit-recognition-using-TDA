{
 "cells": [
  {
   "cell_type": "code",
   "execution_count": 1,
   "metadata": {},
   "outputs": [],
   "source": [
    "from math import sqrt, atan2, pi\n",
    "import numpy as np\n",
    "\n",
    "def canny_edge_detector(input_image):\n",
    "    input_pixels = input_image.load()\n",
    "    width = input_image.width\n",
    "    height = input_image.height\n",
    "\n",
    "    # Transform the image to grayscale\n",
    "    grayscaled = compute_grayscale(input_pixels, width, height)\n",
    "\n",
    "    # Blur it to remove noise\n",
    "    blurred = compute_blur(grayscaled, width, height)\n",
    "\n",
    "    # Compute the gradient\n",
    "    gradient, direction = compute_gradient(blurred, width, height)\n",
    "\n",
    "    # Non-maximum suppression\n",
    "    filter_out_non_maximum(gradient, direction, width, height)\n",
    "\n",
    "    # Filter out some edges\n",
    "    keep = filter_strong_edges(gradient, width, height, 20, 25)\n",
    "\n",
    "    return keep\n",
    "\n",
    "\n",
    "def compute_grayscale(input_pixels, width, height):\n",
    "    grayscale = np.empty((width, height))\n",
    "    for x in range(width):\n",
    "        for y in range(height):\n",
    "            pixel = input_pixels[x, y]\n",
    "            grayscale[x, y] = (pixel[0] + pixel[1] + pixel[2]) / 3\n",
    "    return grayscale\n",
    "\n",
    "\n",
    "def compute_blur(input_pixels, width, height):\n",
    "    # Keep coordinate inside image\n",
    "    clip = lambda x, l, u: l if x < l else u if x > u else x\n",
    "\n",
    "    # Gaussian kernel\n",
    "    kernel = np.array([\n",
    "        [1 / 256,  4 / 256,  6 / 256,  4 / 256, 1 / 256],\n",
    "        [4 / 256, 16 / 256, 24 / 256, 16 / 256, 4 / 256],\n",
    "        [6 / 256, 24 / 256, 36 / 256, 24 / 256, 6 / 256],\n",
    "        [4 / 256, 16 / 256, 24 / 256, 16 / 256, 4 / 256],\n",
    "        [1 / 256,  4 / 256,  6 / 256,  4 / 256, 1 / 256]\n",
    "    ])\n",
    "\n",
    "    # Middle of the kernel\n",
    "    offset = len(kernel) // 2"
   ]
  }
 ],
 "metadata": {
  "kernelspec": {
   "display_name": "Python 3",
   "language": "python",
   "name": "python3"
  },
  "language_info": {
   "codemirror_mode": {
    "name": "ipython",
    "version": 3
   },
   "file_extension": ".py",
   "mimetype": "text/x-python",
   "name": "python",
   "nbconvert_exporter": "python",
   "pygments_lexer": "ipython3",
   "version": "3.7.2"
  }
 },
 "nbformat": 4,
 "nbformat_minor": 2
}
